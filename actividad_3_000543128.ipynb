{
  "nbformat": 4,
  "nbformat_minor": 0,
  "metadata": {
    "colab": {
      "provenance": [],
      "authorship_tag": "ABX9TyMEtKiKc04tsm/2CaixCf4+",
      "include_colab_link": true
    },
    "kernelspec": {
      "name": "python3",
      "display_name": "Python 3"
    },
    "language_info": {
      "name": "python"
    }
  },
  "cells": [
    {
      "cell_type": "markdown",
      "metadata": {
        "id": "view-in-github",
        "colab_type": "text"
      },
      "source": [
        "<a href=\"https://colab.research.google.com/github/ivanrc50/ivan2/blob/main/actividad_3_000543128.ipynb\" target=\"_parent\"><img src=\"https://colab.research.google.com/assets/colab-badge.svg\" alt=\"Open In Colab\"/></a>"
      ]
    },
    {
      "cell_type": "markdown",
      "source": [
        "**Actividad evaluativa** #3\n",
        "\n",
        "**presentado por:** Ivan dario ramos calao\n",
        "\n",
        "**fecha**22/03/2024\n",
        "\n",
        "**email** ivan.ramos@upb.upb.co"
      ],
      "metadata": {
        "id": "JXXjJ3j7at4X"
      }
    },
    {
      "cell_type": "code",
      "source": [
        "import math\n",
        "\n",
        "\n",
        "def filtrar_senal(frecuencia_senal):\n",
        "    U = 1000\n",
        "    DES = 300\n",
        "    probabilidad_acumulada = 0\n",
        "    for x in range(frecuencia_senal + 1):\n",
        "        fdp = (1 / (DES * math.sqrt(2 * math.pi))) * math.exp(-0.5 * ((x - U) / DES ) ** 2)\n",
        "        probabilidad_acumulada += fdp\n",
        "    if probabilidad_acumulada > 0.3:\n",
        "        print(\"La señal pasa el filtro.\")\n",
        "    else:\n",
        "        print(\"La señal es bloqueada por el filtro.\")\n",
        "frecuencia_senal = int(input(\"Ingrese la frecuencia de la señal: \"))\n",
        "filtrar_senal(frecuencia_senal)"
      ],
      "metadata": {
        "colab": {
          "base_uri": "https://localhost:8080/"
        },
        "id": "I1ePtd5yJ0SE",
        "outputId": "9540a2e0-c2ab-4094-f559-5a83e479dcf9"
      },
      "execution_count": null,
      "outputs": [
        {
          "output_type": "stream",
          "name": "stdout",
          "text": [
            "Ingrese la frecuencia de la señal: 777\n",
            "La señal es bloqueada por el filtro.\n"
          ]
        }
      ]
    }
  ]
}